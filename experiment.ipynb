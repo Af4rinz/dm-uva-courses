{
 "cells": [
  {
   "cell_type": "code",
   "execution_count": 15,
   "id": "c01b03a3-19bd-4c41-8fd8-33a07b47830d",
   "metadata": {},
   "outputs": [],
   "source": [
    "from selenium.webdriver.common.by import By\n",
    "from selenium import webdriver\n",
    "from bs4 import BeautifulSoup as bs\n",
    "driver = webdriver.Firefox()"
   ]
  },
  {
   "cell_type": "code",
   "execution_count": 16,
   "id": "c4579198",
   "metadata": {},
   "outputs": [],
   "source": [
    "main_page = driver.get('https://studiegids.uva.nl/xmlpages/page/2021-2022-en/search-course')\n"
   ]
  },
  {
   "cell_type": "code",
   "execution_count": 17,
   "id": "2bcf16ed",
   "metadata": {},
   "outputs": [],
   "source": [
    "get_all_courses = driver.find_element(by=By.CLASS_NAME, value='search-all')\n",
    "get_all_courses.click()"
   ]
  },
  {
   "cell_type": "code",
   "execution_count": 39,
   "id": "3e178bb7",
   "metadata": {},
   "outputs": [],
   "source": [
    "soup = bs(depts, 'html.parser') # If this line causes an error, run 'pip install html5lib' or install html5lib\n",
    "a_ha = soup.find_all('a')\n",
    "dept_count = len(a_ha) - 1\n",
    "for i in range(dept_count):\n",
    "    x_paths.append(x_paths.append('/html/body/div/div[3]/div/div/div/aside/div/div/div[7]/ul/li[{}]'.format(i+1)))\n",
    "    # print(x_paths[i])\n",
    "    # print(\"************************************************************************************************************************\")\n",
    "# click on each department by xpath\n",
    "for i in range(dept_count):\n",
    "    get_dept_courses = driver.find_element(by=By.XPATH, value=x_paths[i]).click()\n",
    "    get_dept_courses.click()"
   ]
  },
  {
   "cell_type": "code",
   "execution_count": 50,
   "id": "18ad6a66",
   "metadata": {},
   "outputs": [
    {
     "name": "stdout",
     "output_type": "stream",
     "text": [
      "AUC (269)\n",
      "<td><a class=\"icon-arrow\" href=\"#\" style=\"cursor: wait;\">\"Losing Earth\"?: Activism and diplomacy on the environment and climate since 1968.</a></td><td class=\"sem1\"><div class=\"sem-blocks\"><img src=\"/xmlpages/resources/TXP/uva/studiegidswebsite/img/grey-blocks.png\" alt=\"\" width=\"56\" height=\"16\"><div class=\"hide red\"><img src=\"/xmlpages/resources/TXP/uva/studiegidswebsite/img/red-block.png\" alt=\"\" width=\"16\" height=\"16\"></div></div></td><td class=\"sem2\"><div class=\"sem-blocks\"><img src=\"/xmlpages/resources/TXP/uva/studiegidswebsite/img/grey-blocks.png\" alt=\"\" width=\"56\" height=\"16\"><div class=\"block-2 red\"><img src=\"/xmlpages/resources/TXP/uva/studiegidswebsite/img/red-block.png\" alt=\"\" width=\"16\" height=\"16\"></div></div></td><td style=\"text-align:center\">6</td>\n",
      "************************************************************************************************************************\n",
      "<td><a class=\"icon-arrow\" href=\"#\" style=\"cursor: wait;\">20th Century Russian and Soviet History</a></td><td class=\"sem1\"><div class=\"sem-blocks\"><img src=\"/xmlpages/resources/TXP/uva/studiegidswebsite/img/grey-blocks.png\" alt=\"\" width=\"56\" height=\"16\"><div class=\"block-1 red\"><img src=\"/xmlpages/resources/TXP/uva/studiegidswebsite/img/red-block.png\" alt=\"\" width=\"16\" height=\"16\"></div></div></td><td class=\"sem2\"><div class=\"sem-blocks\"><img src=\"/xmlpages/resources/TXP/uva/studiegidswebsite/img/grey-blocks.png\" alt=\"\" width=\"56\" height=\"16\"><div class=\"hide red\"><img src=\"/xmlpages/resources/TXP/uva/studiegidswebsite/img/red-block.png\" alt=\"\" width=\"16\" height=\"16\"></div></div></td><td style=\"text-align:center\">6</td>\n",
      "************************************************************************************************************************\n",
      "<td><a class=\"icon-arrow\" href=\"#\" style=\"cursor: wait;\">A Crisis of Democracy? Challenge(r)s in the 21st Century</a></td><td class=\"sem1\"><div class=\"sem-blocks\"><img src=\"/xmlpages/resources/TXP/uva/studiegidswebsite/img/grey-blocks.png\" alt=\"\" width=\"56\" height=\"16\"><div class=\"block-2 red\"><img src=\"/xmlpages/resources/TXP/uva/studiegidswebsite/img/red-block.png\" alt=\"\" width=\"16\" height=\"16\"></div></div></td><td class=\"sem2\"><div class=\"sem-blocks\"><img src=\"/xmlpages/resources/TXP/uva/studiegidswebsite/img/grey-blocks.png\" alt=\"\" width=\"56\" height=\"16\"><div class=\"hide red\"><img src=\"/xmlpages/resources/TXP/uva/studiegidswebsite/img/red-block.png\" alt=\"\" width=\"16\" height=\"16\"></div></div></td><td style=\"text-align:center\">6</td>\n",
      "************************************************************************************************************************\n",
      "<td><a class=\"icon-arrow\" href=\"#\" style=\"cursor: wait;\">A Critical Look on Psychology's Past and Future</a></td><td class=\"sem1\"><div class=\"sem-blocks\"><img src=\"/xmlpages/resources/TXP/uva/studiegidswebsite/img/grey-blocks.png\" alt=\"\" width=\"56\" height=\"16\"><div class=\"hide red\"><img src=\"/xmlpages/resources/TXP/uva/studiegidswebsite/img/red-block.png\" alt=\"\" width=\"16\" height=\"16\"></div></div></td><td class=\"sem2\"><div class=\"sem-blocks\"><img src=\"/xmlpages/resources/TXP/uva/studiegidswebsite/img/grey-blocks.png\" alt=\"\" width=\"56\" height=\"16\"><div class=\"block-2 red\"><img src=\"/xmlpages/resources/TXP/uva/studiegidswebsite/img/red-block.png\" alt=\"\" width=\"16\" height=\"16\"></div></div></td><td style=\"text-align:center\">6</td>\n",
      "************************************************************************************************************************\n",
      "<td><a class=\"icon-arrow\" href=\"#\" style=\"cursor: wait;\">A Cultural History of the Ancient World 1: The Near East and the Greek World</a></td><td class=\"sem1\"><div class=\"sem-blocks\"><img src=\"/xmlpages/resources/TXP/uva/studiegidswebsite/img/grey-blocks.png\" alt=\"\" width=\"56\" height=\"16\"><div class=\"block-1 red\"><img src=\"/xmlpages/resources/TXP/uva/studiegidswebsite/img/red-block.png\" alt=\"\" width=\"16\" height=\"16\"></div></div></td><td class=\"sem2\"><div class=\"sem-blocks\"><img src=\"/xmlpages/resources/TXP/uva/studiegidswebsite/img/grey-blocks.png\" alt=\"\" width=\"56\" height=\"16\"><div class=\"hide red\"><img src=\"/xmlpages/resources/TXP/uva/studiegidswebsite/img/red-block.png\" alt=\"\" width=\"16\" height=\"16\"></div></div></td><td style=\"text-align:center\">6</td>\n",
      "************************************************************************************************************************\n",
      "<td><a class=\"icon-arrow\" href=\"#\" style=\"cursor: wait;\">A Cultural History of the Ancient World 2: The Hellenistic World, Italy and Rome</a></td><td class=\"sem1\"><div class=\"sem-blocks\"><img src=\"/xmlpages/resources/TXP/uva/studiegidswebsite/img/grey-blocks.png\" alt=\"\" width=\"56\" height=\"16\"><div class=\"block-2 red\"><img src=\"/xmlpages/resources/TXP/uva/studiegidswebsite/img/red-block.png\" alt=\"\" width=\"16\" height=\"16\"></div></div></td><td class=\"sem2\"><div class=\"sem-blocks\"><img src=\"/xmlpages/resources/TXP/uva/studiegidswebsite/img/grey-blocks.png\" alt=\"\" width=\"56\" height=\"16\"><div class=\"hide red\"><img src=\"/xmlpages/resources/TXP/uva/studiegidswebsite/img/red-block.png\" alt=\"\" width=\"16\" height=\"16\"></div></div></td><td style=\"text-align:center\">6</td>\n",
      "************************************************************************************************************************\n",
      "<td><a class=\"icon-arrow\" href=\"#\" style=\"cursor: wait;\">A global crisis of democracies? Change and continuity in 21st century politics.</a></td><td class=\"sem1\"><div class=\"sem-blocks\"><img src=\"/xmlpages/resources/TXP/uva/studiegidswebsite/img/grey-blocks.png\" alt=\"\" width=\"56\" height=\"16\"><div class=\"hide red\"><img src=\"/xmlpages/resources/TXP/uva/studiegidswebsite/img/red-block.png\" alt=\"\" width=\"16\" height=\"16\"></div></div></td><td class=\"sem2\"><div class=\"sem-blocks\"><img src=\"/xmlpages/resources/TXP/uva/studiegidswebsite/img/grey-blocks.png\" alt=\"\" width=\"56\" height=\"16\"><div class=\"block-1-2-3 red\"><img src=\"/xmlpages/resources/TXP/uva/studiegidswebsite/img/red-block.png\" alt=\"\" width=\"16\" height=\"16\"></div></div></td><td style=\"text-align:center\">30</td>\n",
      "************************************************************************************************************************\n",
      "<td><a class=\"icon-arrow\" href=\"#\" style=\"cursor: wait;\">A Golden Age? History and Heritage of the Dutch Republic</a></td><td class=\"sem1\"><div class=\"sem-blocks\"><img src=\"/xmlpages/resources/TXP/uva/studiegidswebsite/img/grey-blocks.png\" alt=\"\" width=\"56\" height=\"16\"><div class=\"block-1-2 red\"><img src=\"/xmlpages/resources/TXP/uva/studiegidswebsite/img/red-block.png\" alt=\"\" width=\"16\" height=\"16\"></div></div></td><td class=\"sem2\"><div class=\"sem-blocks\"><img src=\"/xmlpages/resources/TXP/uva/studiegidswebsite/img/grey-blocks.png\" alt=\"\" width=\"56\" height=\"16\"><div class=\"hide red\"><img src=\"/xmlpages/resources/TXP/uva/studiegidswebsite/img/red-block.png\" alt=\"\" width=\"16\" height=\"16\"></div></div></td><td style=\"text-align:center\">6</td>\n",
      "************************************************************************************************************************\n",
      "<td><a class=\"icon-arrow\" href=\"#\" style=\"cursor: wait;\">A History of Modern Israel</a></td><td class=\"sem1\"><div class=\"sem-blocks\"><img src=\"/xmlpages/resources/TXP/uva/studiegidswebsite/img/grey-blocks.png\" alt=\"\" width=\"56\" height=\"16\"><div class=\"hide red\"><img src=\"/xmlpages/resources/TXP/uva/studiegidswebsite/img/red-block.png\" alt=\"\" width=\"16\" height=\"16\"></div></div></td><td class=\"sem2\"><div class=\"sem-blocks\"><img src=\"/xmlpages/resources/TXP/uva/studiegidswebsite/img/grey-blocks.png\" alt=\"\" width=\"56\" height=\"16\"><div class=\"block-1 red\"><img src=\"/xmlpages/resources/TXP/uva/studiegidswebsite/img/red-block.png\" alt=\"\" width=\"16\" height=\"16\"></div></div></td><td style=\"text-align:center\">6</td>\n",
      "************************************************************************************************************************\n",
      "<td><a class=\"icon-arrow\" href=\"#\" style=\"cursor: wait;\">A Monetary History of Europe</a></td><td class=\"sem1\"><div class=\"sem-blocks\"><img src=\"/xmlpages/resources/TXP/uva/studiegidswebsite/img/grey-blocks.png\" alt=\"\" width=\"56\" height=\"16\"><div class=\"hide red\"><img src=\"/xmlpages/resources/TXP/uva/studiegidswebsite/img/red-block.png\" alt=\"\" width=\"16\" height=\"16\"></div></div></td><td class=\"sem2\"><div class=\"sem-blocks\"><img src=\"/xmlpages/resources/TXP/uva/studiegidswebsite/img/grey-blocks.png\" alt=\"\" width=\"56\" height=\"16\"><div class=\"block-1 red\"><img src=\"/xmlpages/resources/TXP/uva/studiegidswebsite/img/red-block.png\" alt=\"\" width=\"16\" height=\"16\"></div></div></td><td style=\"text-align:center\">6</td>\n",
      "************************************************************************************************************************\n",
      "<td><a class=\"icon-arrow\" href=\"#\" style=\"cursor: wait;\">A practitioners guide to Lobbying and Advocacy</a></td><td class=\"sem1\"><div class=\"sem-blocks\"><img src=\"/xmlpages/resources/TXP/uva/studiegidswebsite/img/grey-blocks.png\" alt=\"\" width=\"56\" height=\"16\"><div class=\"hide red\"><img src=\"/xmlpages/resources/TXP/uva/studiegidswebsite/img/red-block.png\" alt=\"\" width=\"16\" height=\"16\"></div></div></td><td class=\"sem2\"><div class=\"sem-blocks\"><img src=\"/xmlpages/resources/TXP/uva/studiegidswebsite/img/grey-blocks.png\" alt=\"\" width=\"56\" height=\"16\"><div class=\"block-1-2 red\"><img src=\"/xmlpages/resources/TXP/uva/studiegidswebsite/img/red-block.png\" alt=\"\" width=\"16\" height=\"16\"></div></div></td><td style=\"text-align:center\">12</td>\n",
      "************************************************************************************************************************\n",
      "<td><a class=\"icon-arrow\" href=\"#\" style=\"cursor: wait;\">A Professional Perspective on Lifelong Learning</a></td><td class=\"sem1\"><div class=\"sem-blocks\"><img src=\"/xmlpages/resources/TXP/uva/studiegidswebsite/img/grey-blocks.png\" alt=\"\" width=\"56\" height=\"16\"><div class=\"block-3 red\"><img src=\"/xmlpages/resources/TXP/uva/studiegidswebsite/img/red-block.png\" alt=\"\" width=\"16\" height=\"16\"></div></div></td><td class=\"sem2\"><div class=\"sem-blocks\"><img src=\"/xmlpages/resources/TXP/uva/studiegidswebsite/img/grey-blocks.png\" alt=\"\" width=\"56\" height=\"16\"><div class=\"hide red\"><img src=\"/xmlpages/resources/TXP/uva/studiegidswebsite/img/red-block.png\" alt=\"\" width=\"16\" height=\"16\"></div></div></td><td style=\"text-align:center\">6</td>\n",
      "************************************************************************************************************************\n",
      "<td><a class=\"icon-arrow\" href=\"#\" style=\"cursor: wait;\">Aansprakelijkheid uit onrechtmatige daad en wanprestatie</a></td><td class=\"sem1\"><div class=\"sem-blocks\"><img src=\"/xmlpages/resources/TXP/uva/studiegidswebsite/img/grey-blocks.png\" alt=\"\" width=\"56\" height=\"16\"><div class=\"block-1 red\"><img src=\"/xmlpages/resources/TXP/uva/studiegidswebsite/img/red-block.png\" alt=\"\" width=\"16\" height=\"16\"></div></div></td><td class=\"sem2\"><div class=\"sem-blocks\"><img src=\"/xmlpages/resources/TXP/uva/studiegidswebsite/img/grey-blocks.png\" alt=\"\" width=\"56\" height=\"16\"><div class=\"hide red\"><img src=\"/xmlpages/resources/TXP/uva/studiegidswebsite/img/red-block.png\" alt=\"\" width=\"16\" height=\"16\"></div></div></td><td style=\"text-align:center\">6</td>\n",
      "************************************************************************************************************************\n",
      "<td><a class=\"icon-arrow\" href=\"#\" style=\"cursor: wait;\">Ab Initio Molecular Dynamics</a></td><td class=\"sem1\"><div class=\"sem-blocks\"><img src=\"/xmlpages/resources/TXP/uva/studiegidswebsite/img/grey-blocks.png\" alt=\"\" width=\"56\" height=\"16\"><div class=\"hide red\"><img src=\"/xmlpages/resources/TXP/uva/studiegidswebsite/img/red-block.png\" alt=\"\" width=\"16\" height=\"16\"></div></div></td><td class=\"sem2\"><div class=\"sem-blocks\"><img src=\"/xmlpages/resources/TXP/uva/studiegidswebsite/img/grey-blocks.png\" alt=\"\" width=\"56\" height=\"16\"><div class=\"block-2 red\"><img src=\"/xmlpages/resources/TXP/uva/studiegidswebsite/img/red-block.png\" alt=\"\" width=\"16\" height=\"16\"></div></div></td><td style=\"text-align:center\">6</td>\n",
      "************************************************************************************************************************\n",
      "<td><a class=\"icon-arrow\" href=\"#\" style=\"cursor: wait;\">ABC Summer School 2022</a></td><td class=\"sem1\"><div class=\"sem-blocks\"><img src=\"/xmlpages/resources/TXP/uva/studiegidswebsite/img/grey-blocks.png\" alt=\"\" width=\"56\" height=\"16\"><div class=\"hide red\"><img src=\"/xmlpages/resources/TXP/uva/studiegidswebsite/img/red-block.png\" alt=\"\" width=\"16\" height=\"16\"></div></div></td><td class=\"sem2\"><div class=\"sem-blocks\"><img src=\"/xmlpages/resources/TXP/uva/studiegidswebsite/img/grey-blocks.png\" alt=\"\" width=\"56\" height=\"16\"><div class=\"block-3 red\"><img src=\"/xmlpages/resources/TXP/uva/studiegidswebsite/img/red-block.png\" alt=\"\" width=\"16\" height=\"16\"></div></div></td><td style=\"text-align:center\">4</td>\n",
      "************************************************************************************************************************\n",
      "<td><a class=\"icon-arrow\" href=\"#\" style=\"cursor: wait;\">Abiotic Stress</a></td><td class=\"sem1\"><div class=\"sem-blocks\"><img src=\"/xmlpages/resources/TXP/uva/studiegidswebsite/img/grey-blocks.png\" alt=\"\" width=\"56\" height=\"16\"><div class=\"block-2 red\"><img src=\"/xmlpages/resources/TXP/uva/studiegidswebsite/img/red-block.png\" alt=\"\" width=\"16\" height=\"16\"></div></div></td><td class=\"sem2\"><div class=\"sem-blocks\"><img src=\"/xmlpages/resources/TXP/uva/studiegidswebsite/img/grey-blocks.png\" alt=\"\" width=\"56\" height=\"16\"><div class=\"hide red\"><img src=\"/xmlpages/resources/TXP/uva/studiegidswebsite/img/red-block.png\" alt=\"\" width=\"16\" height=\"16\"></div></div></td><td style=\"text-align:center\">6</td>\n",
      "************************************************************************************************************************\n",
      "<td><a class=\"icon-arrow\" href=\"#\" style=\"cursor: wait;\">Academic Development</a></td><td class=\"sem1\"><div class=\"sem-blocks\"><img src=\"/xmlpages/resources/TXP/uva/studiegidswebsite/img/grey-blocks.png\" alt=\"\" width=\"56\" height=\"16\"><div class=\"block-1-2-3 red\"><img src=\"/xmlpages/resources/TXP/uva/studiegidswebsite/img/red-block.png\" alt=\"\" width=\"16\" height=\"16\"></div></div></td><td class=\"sem2\"><div class=\"sem-blocks\"><img src=\"/xmlpages/resources/TXP/uva/studiegidswebsite/img/grey-blocks.png\" alt=\"\" width=\"56\" height=\"16\"><div class=\"block-1-2-3 red\"><img src=\"/xmlpages/resources/TXP/uva/studiegidswebsite/img/red-block.png\" alt=\"\" width=\"16\" height=\"16\"></div></div></td><td style=\"text-align:center\">0</td>\n",
      "************************************************************************************************************************\n",
      "<td><a class=\"icon-arrow\" href=\"#\" style=\"cursor: wait;\">Academic English</a></td><td class=\"sem1\"><div class=\"sem-blocks\"><img src=\"/xmlpages/resources/TXP/uva/studiegidswebsite/img/grey-blocks.png\" alt=\"\" width=\"56\" height=\"16\"><div class=\"hide red\"><img src=\"/xmlpages/resources/TXP/uva/studiegidswebsite/img/red-block.png\" alt=\"\" width=\"16\" height=\"16\"></div></div></td><td class=\"sem2\"><div class=\"sem-blocks\"><img src=\"/xmlpages/resources/TXP/uva/studiegidswebsite/img/grey-blocks.png\" alt=\"\" width=\"56\" height=\"16\"><div class=\"block-2 red\"><img src=\"/xmlpages/resources/TXP/uva/studiegidswebsite/img/red-block.png\" alt=\"\" width=\"16\" height=\"16\"></div></div></td><td style=\"text-align:center\">0</td>\n",
      "************************************************************************************************************************\n",
      "<td><a class=\"icon-arrow\" href=\"#\" style=\"cursor: wait;\">Academic Excellence Track</a></td><td class=\"sem1\"><div class=\"sem-blocks\"><img src=\"/xmlpages/resources/TXP/uva/studiegidswebsite/img/grey-blocks.png\" alt=\"\" width=\"56\" height=\"16\"><div class=\"block-1-2-3 red\"><img src=\"/xmlpages/resources/TXP/uva/studiegidswebsite/img/red-block.png\" alt=\"\" width=\"16\" height=\"16\"></div></div></td><td class=\"sem2\"><div class=\"sem-blocks\"><img src=\"/xmlpages/resources/TXP/uva/studiegidswebsite/img/grey-blocks.png\" alt=\"\" width=\"56\" height=\"16\"><div class=\"block-1-2-3 red\"><img src=\"/xmlpages/resources/TXP/uva/studiegidswebsite/img/red-block.png\" alt=\"\" width=\"16\" height=\"16\"></div></div></td><td style=\"text-align:center\">3</td>\n",
      "************************************************************************************************************************\n",
      "<td><a class=\"icon-arrow\" href=\"#\" style=\"cursor: wait;\">Academic Literacy Test</a></td><td class=\"sem1\"><div class=\"sem-blocks\"><img src=\"/xmlpages/resources/TXP/uva/studiegidswebsite/img/grey-blocks.png\" alt=\"\" width=\"56\" height=\"16\"><div class=\"block-1 red\"><img src=\"/xmlpages/resources/TXP/uva/studiegidswebsite/img/red-block.png\" alt=\"\" width=\"16\" height=\"16\"></div></div></td><td class=\"sem2\"><div class=\"sem-blocks\"><img src=\"/xmlpages/resources/TXP/uva/studiegidswebsite/img/grey-blocks.png\" alt=\"\" width=\"56\" height=\"16\"><div class=\"hide red\"><img src=\"/xmlpages/resources/TXP/uva/studiegidswebsite/img/red-block.png\" alt=\"\" width=\"16\" height=\"16\"></div></div></td><td style=\"text-align:center\">0</td>\n",
      "************************************************************************************************************************\n"
     ]
    }
   ],
   "source": [
    "from selenium.webdriver.support.ui import WebDriverWait\n",
    "from selenium.webdriver.support import expected_conditions as EC\n",
    "departments = driver.find_elements(by=By.XPATH, value=\"/html/body/div/div[3]/div/div/div/aside/div/div/div[7]/ul/li\")\n",
    "for dept in departments[:2]:\n",
    "    dept.click()\n",
    "    element = WebDriverWait(driver, 30).until(\n",
    "        EC.element_to_be_clickable((By.CLASS_NAME, \"icon-arrow\"))\n",
    "    )\n",
    "    dept_name = dept.text\n",
    "    print(dept_name)\n",
    "    dept_courses = driver.find_elements(by=By.CLASS_NAME, value='result')\n",
    "    for course in dept_courses:\n",
    "        print(course.get_attribute('innerHTML'))\n",
    "        print(\"************************************************************************************************************************\")\n",
    "    break\n",
    "    "
   ]
  }
 ],
 "metadata": {
  "kernelspec": {
   "display_name": "cv",
   "language": "python",
   "name": "cv"
  },
  "language_info": {
   "codemirror_mode": {
    "name": "ipython",
    "version": 3
   },
   "file_extension": ".py",
   "mimetype": "text/x-python",
   "name": "python",
   "nbconvert_exporter": "python",
   "pygments_lexer": "ipython3",
   "version": "3.10.2"
  }
 },
 "nbformat": 4,
 "nbformat_minor": 5
}
