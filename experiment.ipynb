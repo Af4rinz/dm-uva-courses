{
 "cells": [
  {
   "cell_type": "code",
   "execution_count": 28,
   "id": "c01b03a3-19bd-4c41-8fd8-33a07b47830d",
   "metadata": {},
   "outputs": [],
   "source": [
    "from selenium.webdriver.common.by import By\n",
    "from selenium import webdriver\n",
    "from bs4 import BeautifulSoup as bs\n",
    "driver = webdriver.Firefox()"
   ]
  },
  {
   "cell_type": "code",
   "execution_count": 29,
   "id": "c4579198",
   "metadata": {},
   "outputs": [],
   "source": [
    "main_page = driver.get('https://studiegids.uva.nl/xmlpages/page/2021-2022-en/search-course')"
   ]
  },
  {
   "cell_type": "code",
   "execution_count": 4,
   "id": "6cb53cc7",
   "metadata": {},
   "outputs": [],
   "source": [
    "driver.execute_script(\"window.open('');\")\n",
    "window = driver.window_handles[1]\n",
    "\n",
    "driver.switch_to.window(window)\n",
    "\n",
    "driver.close()\n",
    "driver.switch_to.window(driver.window_handles[0])"
   ]
  },
  {
   "cell_type": "code",
   "execution_count": 30,
   "id": "2bcf16ed",
   "metadata": {},
   "outputs": [],
   "source": [
    "get_all_courses = driver.find_element(by=By.CLASS_NAME, value='search-all')\n",
    "get_all_courses.click()"
   ]
  },
  {
   "cell_type": "code",
   "execution_count": 38,
   "id": "809942f4",
   "metadata": {},
   "outputs": [],
   "source": [
    "def iterate_over_institutions():\n",
    "    pass\n",
    "def iterate_over_courses():\n",
    "    from selenium.webdriver.common.keys import Keys\n",
    "    from selenium.webdriver.common.action_chains import ActionChains\n",
    "    path=\"/html/body/div/div[3]/div/div/div/article/div/table/tbody/tr[{}]/td/div/table/tbody/tr[2]/td[2]/a\"\n",
    "    url_base = \"https://studiegids.uva.nl\"\n",
    "    courses = []\n",
    "    for i in range(2, 12, 2):\n",
    "        print(path.format(i))\n",
    "        driver.find_element(by=By.XPATH, value=path.format(i))\n",
    "        element = None\n",
    "        try_count = 0\n",
    "        while try_count < 5:\n",
    "            try:\n",
    "                element = driver.find_element(by=By.XPATH, value=path.format(i))\n",
    "                break\n",
    "            except:\n",
    "                try_count += 1\n",
    "                continue\n",
    "        url = element.get_attribute('href')\n",
    "        driver.execute_script(\"window.open('');\")\n",
    "        window = driver.window_handles[1]\n",
    "        driver.switch_to.window(window)\n",
    "        driver.get(url)\n",
    "        WebDriverWait(driver, 30).until(\n",
    "            EC.element_to_be_clickable((By.XPATH, \"/html/body/header/nav[2]/div/ul/li/a\"))\n",
    "        )\n",
    "\n",
    "        needed_div = driver.find_element(by=By.XPATH, value=\"/html/body/div/div[3]/div/div[1]/article/div\")\n",
    "        headers = [\"Credits\", \"Objectives\", \"Contents\", \"Required prior knowledge\", \"Registration\", \"Study materials\", \"Assessment\"]\n",
    "        is_in_parent = True\n",
    "        cursor = 1\n",
    "        content = {}\n",
    "        for header in needed_div.find_elements(By.XPATH, value=\"./child::*\"):\n",
    "            if header.text in headers:\n",
    "                print(\"Header:\", header.text)\n",
    "                try: \n",
    "                    content[header.text] = needed_div.find_element(By.XPATH, value=\"./child::*[{}]\".format(cursor + 1)).text\n",
    "                    print(\"Content:\", content[header.text])\n",
    "                except Exception as e:\n",
    "                    print(e)\n",
    "            cursor += 1\n",
    "        # needed_datas = {\n",
    "        #     \"course_title\" : [\"/html/body/div/div[3]/div/div[1]/article/div/h1\", By.XPATH], \n",
    "        #     \"credits\" : [\"/html/body/div/div[3]/div/div[1]/article/div/div/table/tbody/tr[2]/td[2]/p\", By.XPATH], \n",
    "        #     \"department_name\" : [\"/html/body/div/div[3]/div/div[1]/article/div/div/table/tbody/tr[5]/td[2]/p\", By.XPATH],\n",
    "        #     \"professor\" : [None, By.XPATH],\n",
    "        #     \"objective\" : [\"leerdoel\", By.ID],\n",
    "        #     \"prerequisites\" : [\"verplichteVoorkennis\", By.ID],\n",
    "        # }\n",
    "        # course = {}\n",
    "        # for key, val in needed_datas.items():\n",
    "        #     try:\n",
    "        #         course[key] = driver.find_element(by=val[1], value=val[0]).text\n",
    "        #     except Exception as e:\n",
    "        #         print(e)\n",
    "        #         course[key] = \"UNKOWN\"\n",
    "\n",
    "                \n",
    "        # print(course)\n",
    "\n",
    "\n",
    "        # try:\n",
    "        #     course = {}\n",
    "        #     # OR we could put this in save_course_data and save memory!\n",
    "        #     course['university'] = 'Universiteit van Amsterdam'\n",
    "        #     course['abbreviation'] = 'UVA'\n",
    "        #     course['university_homepage'] = 'https://www.uva.nl/'\n",
    "        #     course['course_title'] = driver.find_element(by=By.XPATH, value='/html/body/div/div[3]/div/div[1]/article/div/h1').text\n",
    "        #     course['credits'] = driver.find_element(by=By.XPATH, value='/html/body/div/div[3]/div/div[1]/article/div/div/table/tbody/tr[2]/td[2]/p').text\n",
    "        #     course['department_name'] = driver.find_element(by=By.XPATH, value='/html/body/div/div[3]/div/div[1]/article/div/div/table/tbody/tr[5]/td[2]/p').text\n",
    "        #     course['professor'] = None\n",
    "        #     course['objective'] = driver.find_element(by=By.XPATH, value='/html/body/div/div[3]/div/div[1]/article/div/ul').text\n",
    "        #     course['prerequisite'] = driver.find_element(by=By.XPATH, value='/html/body/div/div[3]/div/div[1]/article/div/ul[1]').text\n",
    "        #     path=\"/html/body\"\n",
    "        #     element = driver.find_element(by=By.XPATH, value=path)\n",
    "        #     print(element.text)\n",
    "        # except Exception as e:\n",
    "        #     print(e)\n",
    "        \n",
    "        \n",
    "        driver.close()\n",
    "        driver.switch_to.window(driver.window_handles[0])\n",
    "\n",
    " \n",
    "def handle_pagination():\n",
    "    pass\n",
    "\n",
    "def extract_information():\n",
    "    pass"
   ]
  },
  {
   "cell_type": "code",
   "execution_count": 39,
   "id": "18ad6a66",
   "metadata": {},
   "outputs": [
    {
     "name": "stdout",
     "output_type": "stream",
     "text": [
      "AUC (269)\n",
      "/html/body/div/div[3]/div/div/div/article/div/table/tbody/tr[2]/td/div/table/tbody/tr[2]/td[2]/a\n",
      "Header: Objectives\n",
      "Content: The students will learn about historical developments in the history of the Low Countries that led to the founding of the Dutch Republic. \n",
      "They will acquire a general knowledge of the main developments in this crucial period of the country in a wide range of topics, such as political thinking, art and literature. \n",
      "They will be able to recognize, identify and analyze specific elements of Dutch 17th century culture. \n",
      "They will be able to describe the influences and significance of the Golden Age for today’s society and be able to understand and to critically relate to the meaning of the Golden Age for the Dutch national identity.\n",
      "Header: Contents\n",
      "Content: The so called Golden Age, which corresponds roughly with the 17th century, was an extremely important period in Dutch history. The enormous increase in trading activity at that time not only increased social mobility but produced a wealthy merchant class. This merchant class was important for patronage of the arts, literature and science and the merchants were also in a position to influence urban planning and architecture of that time. Topics to be covered in the course include colonialism and trade; scientific discoveries; navigation; the Dutch East India Company and the Amsterdam Bank; tulip fever; the perceived tradition of religious tolerance in the Netherlands; still-life painting; the Dutch political scene and the Dutch Republic in the century Europe. Students will learn about historical developments in the Dutch Republic that made the 17th century such an important period for The Netherlands, the ‘Golden Age’, and will trace the significance of these developments to the present day.\n",
      "Header: Study materials\n",
      "Content: Reader with articles or Textbook (check Canvas)\n",
      "Header: Assessment\n",
      "Content: Exams, participation, presentation, paper (see Canvas)\n",
      "/html/body/div/div[3]/div/div/div/article/div/table/tbody/tr[4]/td/div/table/tbody/tr[2]/td[2]/a\n"
     ]
    },
    {
     "ename": "NoSuchElementException",
     "evalue": "Message: Unable to locate element: /html/body/div/div[3]/div/div/div/article/div/table/tbody/tr[4]/td/div/table/tbody/tr[2]/td[2]/a\nStacktrace:\nWebDriverError@chrome://remote/content/shared/webdriver/Errors.jsm:183:5\nNoSuchElementError@chrome://remote/content/shared/webdriver/Errors.jsm:395:5\nelement.find/</<@chrome://remote/content/marionette/element.js:300:16\n",
     "output_type": "error",
     "traceback": [
      "\u001b[0;31m---------------------------------------------------------------------------\u001b[0m",
      "\u001b[0;31mNoSuchElementException\u001b[0m                    Traceback (most recent call last)",
      "\u001b[1;32m/home/toorajtaraz/Documents/university/DM/projects/dm-uva-courses/experiment.ipynb Cell 6'\u001b[0m in \u001b[0;36m<cell line: 4>\u001b[0;34m()\u001b[0m\n\u001b[1;32m      <a href='vscode-notebook-cell:/home/toorajtaraz/Documents/university/DM/projects/dm-uva-courses/experiment.ipynb#ch0000013?line=8'>9</a>\u001b[0m dept_name \u001b[39m=\u001b[39m dept\u001b[39m.\u001b[39mtext\n\u001b[1;32m     <a href='vscode-notebook-cell:/home/toorajtaraz/Documents/university/DM/projects/dm-uva-courses/experiment.ipynb#ch0000013?line=9'>10</a>\u001b[0m \u001b[39mprint\u001b[39m(dept_name)\n\u001b[0;32m---> <a href='vscode-notebook-cell:/home/toorajtaraz/Documents/university/DM/projects/dm-uva-courses/experiment.ipynb#ch0000013?line=10'>11</a>\u001b[0m iterate_over_courses()\n\u001b[1;32m     <a href='vscode-notebook-cell:/home/toorajtaraz/Documents/university/DM/projects/dm-uva-courses/experiment.ipynb#ch0000013?line=11'>12</a>\u001b[0m handle_pagination()\n\u001b[1;32m     <a href='vscode-notebook-cell:/home/toorajtaraz/Documents/university/DM/projects/dm-uva-courses/experiment.ipynb#ch0000013?line=12'>13</a>\u001b[0m \u001b[39mbreak\u001b[39;00m\n",
      "\u001b[1;32m/home/toorajtaraz/Documents/university/DM/projects/dm-uva-courses/experiment.ipynb Cell 5'\u001b[0m in \u001b[0;36miterate_over_courses\u001b[0;34m()\u001b[0m\n\u001b[1;32m      <a href='vscode-notebook-cell:/home/toorajtaraz/Documents/university/DM/projects/dm-uva-courses/experiment.ipynb#ch0000012?line=8'>9</a>\u001b[0m \u001b[39mfor\u001b[39;00m i \u001b[39min\u001b[39;00m \u001b[39mrange\u001b[39m(\u001b[39m2\u001b[39m, \u001b[39m12\u001b[39m, \u001b[39m2\u001b[39m):\n\u001b[1;32m     <a href='vscode-notebook-cell:/home/toorajtaraz/Documents/university/DM/projects/dm-uva-courses/experiment.ipynb#ch0000012?line=9'>10</a>\u001b[0m     \u001b[39mprint\u001b[39m(path\u001b[39m.\u001b[39mformat(i))\n\u001b[0;32m---> <a href='vscode-notebook-cell:/home/toorajtaraz/Documents/university/DM/projects/dm-uva-courses/experiment.ipynb#ch0000012?line=10'>11</a>\u001b[0m     driver\u001b[39m.\u001b[39;49mfind_element(by\u001b[39m=\u001b[39;49mBy\u001b[39m.\u001b[39;49mXPATH, value\u001b[39m=\u001b[39;49mpath\u001b[39m.\u001b[39;49mformat(i))\n\u001b[1;32m     <a href='vscode-notebook-cell:/home/toorajtaraz/Documents/university/DM/projects/dm-uva-courses/experiment.ipynb#ch0000012?line=11'>12</a>\u001b[0m     element \u001b[39m=\u001b[39m \u001b[39mNone\u001b[39;00m\n\u001b[1;32m     <a href='vscode-notebook-cell:/home/toorajtaraz/Documents/university/DM/projects/dm-uva-courses/experiment.ipynb#ch0000012?line=12'>13</a>\u001b[0m     try_count \u001b[39m=\u001b[39m \u001b[39m0\u001b[39m\n",
      "File \u001b[0;32m~/.local/lib/python3.10/site-packages/selenium/webdriver/remote/webdriver.py:1248\u001b[0m, in \u001b[0;36mWebDriver.find_element\u001b[0;34m(self, by, value)\u001b[0m\n\u001b[1;32m   <a href='file:///home/toorajtaraz/.local/lib/python3.10/site-packages/selenium/webdriver/remote/webdriver.py?line=1244'>1245</a>\u001b[0m     by \u001b[39m=\u001b[39m By\u001b[39m.\u001b[39mCSS_SELECTOR\n\u001b[1;32m   <a href='file:///home/toorajtaraz/.local/lib/python3.10/site-packages/selenium/webdriver/remote/webdriver.py?line=1245'>1246</a>\u001b[0m     value \u001b[39m=\u001b[39m \u001b[39m'\u001b[39m\u001b[39m[name=\u001b[39m\u001b[39m\"\u001b[39m\u001b[39m%s\u001b[39;00m\u001b[39m\"\u001b[39m\u001b[39m]\u001b[39m\u001b[39m'\u001b[39m \u001b[39m%\u001b[39m value\n\u001b[0;32m-> <a href='file:///home/toorajtaraz/.local/lib/python3.10/site-packages/selenium/webdriver/remote/webdriver.py?line=1247'>1248</a>\u001b[0m \u001b[39mreturn\u001b[39;00m \u001b[39mself\u001b[39;49m\u001b[39m.\u001b[39;49mexecute(Command\u001b[39m.\u001b[39;49mFIND_ELEMENT, {\n\u001b[1;32m   <a href='file:///home/toorajtaraz/.local/lib/python3.10/site-packages/selenium/webdriver/remote/webdriver.py?line=1248'>1249</a>\u001b[0m     \u001b[39m'\u001b[39;49m\u001b[39musing\u001b[39;49m\u001b[39m'\u001b[39;49m: by,\n\u001b[1;32m   <a href='file:///home/toorajtaraz/.local/lib/python3.10/site-packages/selenium/webdriver/remote/webdriver.py?line=1249'>1250</a>\u001b[0m     \u001b[39m'\u001b[39;49m\u001b[39mvalue\u001b[39;49m\u001b[39m'\u001b[39;49m: value})[\u001b[39m'\u001b[39m\u001b[39mvalue\u001b[39m\u001b[39m'\u001b[39m]\n",
      "File \u001b[0;32m~/.local/lib/python3.10/site-packages/selenium/webdriver/remote/webdriver.py:425\u001b[0m, in \u001b[0;36mWebDriver.execute\u001b[0;34m(self, driver_command, params)\u001b[0m\n\u001b[1;32m    <a href='file:///home/toorajtaraz/.local/lib/python3.10/site-packages/selenium/webdriver/remote/webdriver.py?line=422'>423</a>\u001b[0m response \u001b[39m=\u001b[39m \u001b[39mself\u001b[39m\u001b[39m.\u001b[39mcommand_executor\u001b[39m.\u001b[39mexecute(driver_command, params)\n\u001b[1;32m    <a href='file:///home/toorajtaraz/.local/lib/python3.10/site-packages/selenium/webdriver/remote/webdriver.py?line=423'>424</a>\u001b[0m \u001b[39mif\u001b[39;00m response:\n\u001b[0;32m--> <a href='file:///home/toorajtaraz/.local/lib/python3.10/site-packages/selenium/webdriver/remote/webdriver.py?line=424'>425</a>\u001b[0m     \u001b[39mself\u001b[39;49m\u001b[39m.\u001b[39;49merror_handler\u001b[39m.\u001b[39;49mcheck_response(response)\n\u001b[1;32m    <a href='file:///home/toorajtaraz/.local/lib/python3.10/site-packages/selenium/webdriver/remote/webdriver.py?line=425'>426</a>\u001b[0m     response[\u001b[39m'\u001b[39m\u001b[39mvalue\u001b[39m\u001b[39m'\u001b[39m] \u001b[39m=\u001b[39m \u001b[39mself\u001b[39m\u001b[39m.\u001b[39m_unwrap_value(\n\u001b[1;32m    <a href='file:///home/toorajtaraz/.local/lib/python3.10/site-packages/selenium/webdriver/remote/webdriver.py?line=426'>427</a>\u001b[0m         response\u001b[39m.\u001b[39mget(\u001b[39m'\u001b[39m\u001b[39mvalue\u001b[39m\u001b[39m'\u001b[39m, \u001b[39mNone\u001b[39;00m))\n\u001b[1;32m    <a href='file:///home/toorajtaraz/.local/lib/python3.10/site-packages/selenium/webdriver/remote/webdriver.py?line=427'>428</a>\u001b[0m     \u001b[39mreturn\u001b[39;00m response\n",
      "File \u001b[0;32m~/.local/lib/python3.10/site-packages/selenium/webdriver/remote/errorhandler.py:247\u001b[0m, in \u001b[0;36mErrorHandler.check_response\u001b[0;34m(self, response)\u001b[0m\n\u001b[1;32m    <a href='file:///home/toorajtaraz/.local/lib/python3.10/site-packages/selenium/webdriver/remote/errorhandler.py?line=244'>245</a>\u001b[0m         alert_text \u001b[39m=\u001b[39m value[\u001b[39m'\u001b[39m\u001b[39malert\u001b[39m\u001b[39m'\u001b[39m]\u001b[39m.\u001b[39mget(\u001b[39m'\u001b[39m\u001b[39mtext\u001b[39m\u001b[39m'\u001b[39m)\n\u001b[1;32m    <a href='file:///home/toorajtaraz/.local/lib/python3.10/site-packages/selenium/webdriver/remote/errorhandler.py?line=245'>246</a>\u001b[0m     \u001b[39mraise\u001b[39;00m exception_class(message, screen, stacktrace, alert_text)  \u001b[39m# type: ignore[call-arg]  # mypy is not smart enough here\u001b[39;00m\n\u001b[0;32m--> <a href='file:///home/toorajtaraz/.local/lib/python3.10/site-packages/selenium/webdriver/remote/errorhandler.py?line=246'>247</a>\u001b[0m \u001b[39mraise\u001b[39;00m exception_class(message, screen, stacktrace)\n",
      "\u001b[0;31mNoSuchElementException\u001b[0m: Message: Unable to locate element: /html/body/div/div[3]/div/div/div/article/div/table/tbody/tr[4]/td/div/table/tbody/tr[2]/td[2]/a\nStacktrace:\nWebDriverError@chrome://remote/content/shared/webdriver/Errors.jsm:183:5\nNoSuchElementError@chrome://remote/content/shared/webdriver/Errors.jsm:395:5\nelement.find/</<@chrome://remote/content/marionette/element.js:300:16\n"
     ]
    }
   ],
   "source": [
    "from selenium.webdriver.support.ui import WebDriverWait\n",
    "from selenium.webdriver.support import expected_conditions as EC\n",
    "departments = driver.find_elements(by=By.XPATH, value=\"/html/body/div/div[3]/div/div/div/aside/div/div/div[7]/ul/li\")\n",
    "for dept in departments[:2]:\n",
    "    dept.click()\n",
    "    element = WebDriverWait(driver, 30).until(\n",
    "        EC.element_to_be_clickable((By.CLASS_NAME, \"icon-arrow\"))\n",
    "    )\n",
    "    dept_name = dept.text\n",
    "    print(dept_name)\n",
    "    iterate_over_courses()\n",
    "    handle_pagination()\n",
    "    break\n",
    "    "
   ]
  },
  {
   "cell_type": "markdown",
   "id": "20389af3",
   "metadata": {},
   "source": [
    "/html/body/div/div[3]/div/div[1]/article/div/h1\n",
    "/html/body/div/div[3]/div/div[1]/article/div/div\n",
    "/html/body/div/div[3]/div/div[1]/article/div"
   ]
  },
  {
   "cell_type": "markdown",
   "id": "d4dbdffc",
   "metadata": {},
   "source": [
    "# Links\n",
    "\n",
    "(something)[https://stackoverflow.com/questions/28431765/open-web-in-new-tab-selenium-python]\n",
    "\n",
    "https://selenium-python.readthedocs.io/api.html#module-selenium.webdriver.common.action_chains"
   ]
  }
 ],
 "metadata": {
  "kernelspec": {
   "display_name": "cv",
   "language": "python",
   "name": "cv"
  },
  "language_info": {
   "codemirror_mode": {
    "name": "ipython",
    "version": 3
   },
   "file_extension": ".py",
   "mimetype": "text/x-python",
   "name": "python",
   "nbconvert_exporter": "python",
   "pygments_lexer": "ipython3",
   "version": "3.10.2"
  }
 },
 "nbformat": 4,
 "nbformat_minor": 5
}
