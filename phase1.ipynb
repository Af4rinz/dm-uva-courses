{
 "cells": [
  {
   "cell_type": "markdown",
   "metadata": {},
   "source": [
    "merge description, prerequisites, references, objective"
   ]
  },
  {
   "cell_type": "code",
   "execution_count": null,
   "metadata": {},
   "outputs": [],
   "source": [
    "import pandas as pd\n",
    "import numpy as np\n",
    "import matplotlib.pyplot as plt\n",
    "# nlp tools\n",
    "import nltk\n",
    "import re\n",
    "# from keybert import KeyBert as KB"
   ]
  },
  {
   "cell_type": "code",
   "execution_count": null,
   "metadata": {},
   "outputs": [],
   "source": [
    "# open data/uva.csv and read it into a pandas dataframe\n",
    "uva = pd.read_csv(\"data/uva.csv\")"
   ]
  },
  {
   "cell_type": "code",
   "execution_count": null,
   "metadata": {},
   "outputs": [],
   "source": [
    "# merge columns description, prerequisite, references, and requirements into one column called merged_desc\n",
    "uva['description'] = uva['description'].fillna('')\n",
    "uva['objective'] = uva['objective'].fillna('')\n",
    "uva['prerequisite'] = uva['prerequisite'].fillna('')\n",
    "uva['references'] = uva['references'].fillna('')\n",
    "uva['merged_desc'] = uva['description'] + ' ' + uva['prerequisite'] + ' ' + uva['requirements'] + ' ' + uva['references']"
   ]
  }
 ],
 "metadata": {
  "interpreter": {
   "hash": "ad2bdc8ecc057115af97d19610ffacc2b4e99fae6737bb82f5d7fb13d2f2c186"
  },
  "kernelspec": {
   "display_name": "Python 3.7.1 ('base')",
   "language": "python",
   "name": "python3"
  },
  "language_info": {
   "name": "python",
   "version": "3.7.1"
  },
  "orig_nbformat": 4
 },
 "nbformat": 4,
 "nbformat_minor": 2
}
